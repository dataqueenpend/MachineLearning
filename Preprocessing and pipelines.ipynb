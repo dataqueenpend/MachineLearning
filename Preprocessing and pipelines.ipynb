{
 "cells": [
  {
   "cell_type": "markdown",
   "id": "6d1cf5ca-f55d-4898-a199-969002dddc01",
   "metadata": {},
   "source": [
    "# Preprocessing and Pipelines"
   ]
  },
  {
   "cell_type": "markdown",
   "id": "671ee7f2-2a9d-4c2a-b483-864aea94ecc6",
   "metadata": {},
   "source": [
    "## Preprocessing\n",
    "\n",
    "**Transoforming categorical features into binary features**\n",
    "\n",
    "In order to include in the model categorical features, we need to make them work in our model of choice. Not every model can process categorical data (meaning non numeric). But sometimes the categorical features can store important data that'll improve the model ability to generalize way on the unseen data. So making the categorical feature accesible for the model to use, is worth the effort. \n",
    "\n",
    "There are many methods to transform categorical features. One of them is creating dummy variable with pandas get_dummies method. "
   ]
  },
  {
   "cell_type": "code",
   "execution_count": 1,
   "id": "e0f50b58-f554-4032-b26d-4ea567b13128",
   "metadata": {},
   "outputs": [],
   "source": [
    "import pandas as pd\n",
    "import seaborn as sns\n",
    "\n",
    "# Load Titanic dataset from seaborn\n",
    "titanic_data = sns.load_dataset('titanic')\n",
    "# Select relevant columns for demonstration\n",
    "selected_columns = ['sex', 'class', 'embark_town', 'survived']"
   ]
  },
  {
   "cell_type": "code",
   "execution_count": 2,
   "id": "7691353a-c3e2-4455-bd7c-bd5048d164b0",
   "metadata": {},
   "outputs": [
    {
     "name": "stdout",
     "output_type": "stream",
     "text": [
      "<class 'pandas.core.frame.DataFrame'>\n",
      "RangeIndex: 891 entries, 0 to 890\n",
      "Data columns (total 4 columns):\n",
      " #   Column       Non-Null Count  Dtype   \n",
      "---  ------       --------------  -----   \n",
      " 0   sex          891 non-null    object  \n",
      " 1   class        891 non-null    category\n",
      " 2   embark_town  889 non-null    object  \n",
      " 3   survived     891 non-null    int64   \n",
      "dtypes: category(1), int64(1), object(2)\n",
      "memory usage: 22.0+ KB\n"
     ]
    }
   ],
   "source": [
    "titanic_data[selected_columns].info()"
   ]
  },
  {
   "cell_type": "code",
   "execution_count": 3,
   "id": "db52ce38-29af-40b2-a03e-38fd6f485682",
   "metadata": {},
   "outputs": [
    {
     "data": {
      "text/html": [
       "<div>\n",
       "<style scoped>\n",
       "    .dataframe tbody tr th:only-of-type {\n",
       "        vertical-align: middle;\n",
       "    }\n",
       "\n",
       "    .dataframe tbody tr th {\n",
       "        vertical-align: top;\n",
       "    }\n",
       "\n",
       "    .dataframe thead th {\n",
       "        text-align: right;\n",
       "    }\n",
       "</style>\n",
       "<table border=\"1\" class=\"dataframe\">\n",
       "  <thead>\n",
       "    <tr style=\"text-align: right;\">\n",
       "      <th></th>\n",
       "      <th>sex</th>\n",
       "      <th>class</th>\n",
       "      <th>embark_town</th>\n",
       "      <th>survived</th>\n",
       "    </tr>\n",
       "  </thead>\n",
       "  <tbody>\n",
       "    <tr>\n",
       "      <th>0</th>\n",
       "      <td>male</td>\n",
       "      <td>Third</td>\n",
       "      <td>Southampton</td>\n",
       "      <td>0</td>\n",
       "    </tr>\n",
       "    <tr>\n",
       "      <th>1</th>\n",
       "      <td>female</td>\n",
       "      <td>First</td>\n",
       "      <td>Cherbourg</td>\n",
       "      <td>1</td>\n",
       "    </tr>\n",
       "    <tr>\n",
       "      <th>2</th>\n",
       "      <td>female</td>\n",
       "      <td>Third</td>\n",
       "      <td>Southampton</td>\n",
       "      <td>1</td>\n",
       "    </tr>\n",
       "    <tr>\n",
       "      <th>3</th>\n",
       "      <td>female</td>\n",
       "      <td>First</td>\n",
       "      <td>Southampton</td>\n",
       "      <td>1</td>\n",
       "    </tr>\n",
       "    <tr>\n",
       "      <th>4</th>\n",
       "      <td>male</td>\n",
       "      <td>Third</td>\n",
       "      <td>Southampton</td>\n",
       "      <td>0</td>\n",
       "    </tr>\n",
       "  </tbody>\n",
       "</table>\n",
       "</div>"
      ],
      "text/plain": [
       "      sex  class  embark_town  survived\n",
       "0    male  Third  Southampton         0\n",
       "1  female  First    Cherbourg         1\n",
       "2  female  Third  Southampton         1\n",
       "3  female  First  Southampton         1\n",
       "4    male  Third  Southampton         0"
      ]
     },
     "execution_count": 3,
     "metadata": {},
     "output_type": "execute_result"
    }
   ],
   "source": [
    "titanic_data[selected_columns].head()"
   ]
  },
  {
   "cell_type": "code",
   "execution_count": 4,
   "id": "9587b169-2a18-4cfd-8669-8ffc0ec015ac",
   "metadata": {},
   "outputs": [
    {
     "data": {
      "text/plain": [
       "(891, 4)"
      ]
     },
     "execution_count": 4,
     "metadata": {},
     "output_type": "execute_result"
    }
   ],
   "source": [
    "titanic_data[selected_columns].shape"
   ]
  },
  {
   "cell_type": "code",
   "execution_count": 5,
   "id": "3248bef4-4cc0-4e2a-a4f4-536eca0193c0",
   "metadata": {},
   "outputs": [],
   "source": [
    "df = titanic_data[selected_columns].copy()\n",
    "\n",
    "# Transform categorical features using get_dummies()\n",
    "df_encoded = pd.get_dummies(df, columns=['sex', 'class', 'embark_town'])"
   ]
  },
  {
   "cell_type": "code",
   "execution_count": 6,
   "id": "9a364852-a5ae-4416-8d14-1afb860eb1b2",
   "metadata": {},
   "outputs": [
    {
     "data": {
      "text/plain": [
       "(891, 9)"
      ]
     },
     "execution_count": 6,
     "metadata": {},
     "output_type": "execute_result"
    }
   ],
   "source": [
    "df_encoded.shape"
   ]
  },
  {
   "cell_type": "code",
   "execution_count": 7,
   "id": "a31be013-3ce4-4672-bd88-a18277a8f1d6",
   "metadata": {},
   "outputs": [
    {
     "data": {
      "text/html": [
       "<div>\n",
       "<style scoped>\n",
       "    .dataframe tbody tr th:only-of-type {\n",
       "        vertical-align: middle;\n",
       "    }\n",
       "\n",
       "    .dataframe tbody tr th {\n",
       "        vertical-align: top;\n",
       "    }\n",
       "\n",
       "    .dataframe thead th {\n",
       "        text-align: right;\n",
       "    }\n",
       "</style>\n",
       "<table border=\"1\" class=\"dataframe\">\n",
       "  <thead>\n",
       "    <tr style=\"text-align: right;\">\n",
       "      <th></th>\n",
       "      <th>survived</th>\n",
       "      <th>sex_female</th>\n",
       "      <th>sex_male</th>\n",
       "      <th>class_First</th>\n",
       "      <th>class_Second</th>\n",
       "      <th>class_Third</th>\n",
       "      <th>embark_town_Cherbourg</th>\n",
       "      <th>embark_town_Queenstown</th>\n",
       "      <th>embark_town_Southampton</th>\n",
       "    </tr>\n",
       "  </thead>\n",
       "  <tbody>\n",
       "    <tr>\n",
       "      <th>0</th>\n",
       "      <td>0</td>\n",
       "      <td>0</td>\n",
       "      <td>1</td>\n",
       "      <td>0</td>\n",
       "      <td>0</td>\n",
       "      <td>1</td>\n",
       "      <td>0</td>\n",
       "      <td>0</td>\n",
       "      <td>1</td>\n",
       "    </tr>\n",
       "    <tr>\n",
       "      <th>1</th>\n",
       "      <td>1</td>\n",
       "      <td>1</td>\n",
       "      <td>0</td>\n",
       "      <td>1</td>\n",
       "      <td>0</td>\n",
       "      <td>0</td>\n",
       "      <td>1</td>\n",
       "      <td>0</td>\n",
       "      <td>0</td>\n",
       "    </tr>\n",
       "    <tr>\n",
       "      <th>2</th>\n",
       "      <td>1</td>\n",
       "      <td>1</td>\n",
       "      <td>0</td>\n",
       "      <td>0</td>\n",
       "      <td>0</td>\n",
       "      <td>1</td>\n",
       "      <td>0</td>\n",
       "      <td>0</td>\n",
       "      <td>1</td>\n",
       "    </tr>\n",
       "    <tr>\n",
       "      <th>3</th>\n",
       "      <td>1</td>\n",
       "      <td>1</td>\n",
       "      <td>0</td>\n",
       "      <td>1</td>\n",
       "      <td>0</td>\n",
       "      <td>0</td>\n",
       "      <td>0</td>\n",
       "      <td>0</td>\n",
       "      <td>1</td>\n",
       "    </tr>\n",
       "    <tr>\n",
       "      <th>4</th>\n",
       "      <td>0</td>\n",
       "      <td>0</td>\n",
       "      <td>1</td>\n",
       "      <td>0</td>\n",
       "      <td>0</td>\n",
       "      <td>1</td>\n",
       "      <td>0</td>\n",
       "      <td>0</td>\n",
       "      <td>1</td>\n",
       "    </tr>\n",
       "  </tbody>\n",
       "</table>\n",
       "</div>"
      ],
      "text/plain": [
       "   survived  sex_female  sex_male  class_First  class_Second  class_Third  \\\n",
       "0         0           0         1            0             0            1   \n",
       "1         1           1         0            1             0            0   \n",
       "2         1           1         0            0             0            1   \n",
       "3         1           1         0            1             0            0   \n",
       "4         0           0         1            0             0            1   \n",
       "\n",
       "   embark_town_Cherbourg  embark_town_Queenstown  embark_town_Southampton  \n",
       "0                      0                       0                        1  \n",
       "1                      1                       0                        0  \n",
       "2                      0                       0                        1  \n",
       "3                      0                       0                        1  \n",
       "4                      0                       0                        1  "
      ]
     },
     "execution_count": 7,
     "metadata": {},
     "output_type": "execute_result"
    }
   ],
   "source": [
    "df_encoded.head()"
   ]
  },
  {
   "cell_type": "markdown",
   "id": "336f2131-6659-4468-9987-43d953f10511",
   "metadata": {},
   "source": [
    "## Missing data\n",
    "\n",
    "In order to make use of our data in the models, we need to take care of missing values in dataset. The usual approach is to remove observations (rows) which consists less than 5% of all data."
   ]
  },
  {
   "cell_type": "code",
   "execution_count": 8,
   "id": "09c54c56-f0f4-4bf3-a345-93352ce653c3",
   "metadata": {},
   "outputs": [],
   "source": [
    "import pandas as pd\n",
    "import numpy as np"
   ]
  },
  {
   "cell_type": "code",
   "execution_count": 9,
   "id": "c159bff9-5717-4f16-af45-db054883c940",
   "metadata": {},
   "outputs": [
    {
     "data": {
      "text/html": [
       "<div>\n",
       "<style scoped>\n",
       "    .dataframe tbody tr th:only-of-type {\n",
       "        vertical-align: middle;\n",
       "    }\n",
       "\n",
       "    .dataframe tbody tr th {\n",
       "        vertical-align: top;\n",
       "    }\n",
       "\n",
       "    .dataframe thead th {\n",
       "        text-align: right;\n",
       "    }\n",
       "</style>\n",
       "<table border=\"1\" class=\"dataframe\">\n",
       "  <thead>\n",
       "    <tr style=\"text-align: right;\">\n",
       "      <th></th>\n",
       "      <th>Unnamed: 0</th>\n",
       "      <th>popularity</th>\n",
       "      <th>acousticness</th>\n",
       "      <th>danceability</th>\n",
       "      <th>duration_ms</th>\n",
       "      <th>energy</th>\n",
       "      <th>instrumentalness</th>\n",
       "      <th>liveness</th>\n",
       "      <th>loudness</th>\n",
       "      <th>speechiness</th>\n",
       "      <th>tempo</th>\n",
       "      <th>valence</th>\n",
       "      <th>genre</th>\n",
       "    </tr>\n",
       "  </thead>\n",
       "  <tbody>\n",
       "    <tr>\n",
       "      <th>0</th>\n",
       "      <td>36506</td>\n",
       "      <td>60.0</td>\n",
       "      <td>0.896000</td>\n",
       "      <td>0.726</td>\n",
       "      <td>214547.0</td>\n",
       "      <td>0.177</td>\n",
       "      <td>0.000002</td>\n",
       "      <td>0.1160</td>\n",
       "      <td>-14.824</td>\n",
       "      <td>0.0353</td>\n",
       "      <td>92.934</td>\n",
       "      <td>0.618</td>\n",
       "      <td>1</td>\n",
       "    </tr>\n",
       "    <tr>\n",
       "      <th>1</th>\n",
       "      <td>37591</td>\n",
       "      <td>63.0</td>\n",
       "      <td>0.003840</td>\n",
       "      <td>0.635</td>\n",
       "      <td>190448.0</td>\n",
       "      <td>0.908</td>\n",
       "      <td>0.083400</td>\n",
       "      <td>0.2390</td>\n",
       "      <td>-4.795</td>\n",
       "      <td>0.0563</td>\n",
       "      <td>110.012</td>\n",
       "      <td>0.637</td>\n",
       "      <td>1</td>\n",
       "    </tr>\n",
       "    <tr>\n",
       "      <th>2</th>\n",
       "      <td>37658</td>\n",
       "      <td>59.0</td>\n",
       "      <td>0.000075</td>\n",
       "      <td>0.352</td>\n",
       "      <td>456320.0</td>\n",
       "      <td>0.956</td>\n",
       "      <td>0.020300</td>\n",
       "      <td>0.1250</td>\n",
       "      <td>-3.634</td>\n",
       "      <td>0.1490</td>\n",
       "      <td>122.897</td>\n",
       "      <td>0.228</td>\n",
       "      <td>1</td>\n",
       "    </tr>\n",
       "    <tr>\n",
       "      <th>3</th>\n",
       "      <td>36060</td>\n",
       "      <td>54.0</td>\n",
       "      <td>0.945000</td>\n",
       "      <td>0.488</td>\n",
       "      <td>352280.0</td>\n",
       "      <td>0.326</td>\n",
       "      <td>0.015700</td>\n",
       "      <td>0.1190</td>\n",
       "      <td>-12.020</td>\n",
       "      <td>0.0328</td>\n",
       "      <td>106.063</td>\n",
       "      <td>0.323</td>\n",
       "      <td>1</td>\n",
       "    </tr>\n",
       "    <tr>\n",
       "      <th>4</th>\n",
       "      <td>35710</td>\n",
       "      <td>55.0</td>\n",
       "      <td>0.245000</td>\n",
       "      <td>0.667</td>\n",
       "      <td>273693.0</td>\n",
       "      <td>0.647</td>\n",
       "      <td>0.000297</td>\n",
       "      <td>0.0633</td>\n",
       "      <td>-7.787</td>\n",
       "      <td>0.0487</td>\n",
       "      <td>143.995</td>\n",
       "      <td>0.300</td>\n",
       "      <td>1</td>\n",
       "    </tr>\n",
       "  </tbody>\n",
       "</table>\n",
       "</div>"
      ],
      "text/plain": [
       "   Unnamed: 0  popularity  acousticness  danceability  duration_ms  energy  \\\n",
       "0       36506        60.0      0.896000         0.726     214547.0   0.177   \n",
       "1       37591        63.0      0.003840         0.635     190448.0   0.908   \n",
       "2       37658        59.0      0.000075         0.352     456320.0   0.956   \n",
       "3       36060        54.0      0.945000         0.488     352280.0   0.326   \n",
       "4       35710        55.0      0.245000         0.667     273693.0   0.647   \n",
       "\n",
       "   instrumentalness  liveness  loudness  speechiness    tempo  valence  genre  \n",
       "0          0.000002    0.1160   -14.824       0.0353   92.934    0.618      1  \n",
       "1          0.083400    0.2390    -4.795       0.0563  110.012    0.637      1  \n",
       "2          0.020300    0.1250    -3.634       0.1490  122.897    0.228      1  \n",
       "3          0.015700    0.1190   -12.020       0.0328  106.063    0.323      1  \n",
       "4          0.000297    0.0633    -7.787       0.0487  143.995    0.300      1  "
      ]
     },
     "execution_count": 9,
     "metadata": {},
     "output_type": "execute_result"
    }
   ],
   "source": [
    "df = pd.read_csv('music_clean.csv')\n",
    "df.head()"
   ]
  },
  {
   "cell_type": "code",
   "execution_count": 10,
   "id": "544e42a6-3d75-4bce-9c48-404a4091d747",
   "metadata": {},
   "outputs": [],
   "source": [
    "# Wybor losowych indeksow\n",
    "num_rows_to_replace = 10\n",
    "num_cols_to_replace = 2\n",
    "random_rows = np.random.choice(df.index, num_rows_to_replace, replace=False)\n",
    "random_cols = np.random.choice(df.columns, num_cols_to_replace, replace=False)\n",
    "\n",
    "# Zastapienie wybranych komorek wartoscia null\n",
    "df.loc[random_rows, random_cols] = np.nan\n"
   ]
  },
  {
   "cell_type": "code",
   "execution_count": 11,
   "id": "e61328e3-c191-43cf-bf13-2a0b853dcba3",
   "metadata": {},
   "outputs": [
    {
     "name": "stdout",
     "output_type": "stream",
     "text": [
      "<class 'pandas.core.frame.DataFrame'>\n",
      "RangeIndex: 1000 entries, 0 to 999\n",
      "Data columns (total 13 columns):\n",
      " #   Column            Non-Null Count  Dtype  \n",
      "---  ------            --------------  -----  \n",
      " 0   Unnamed: 0        1000 non-null   int64  \n",
      " 1   popularity        1000 non-null   float64\n",
      " 2   acousticness      1000 non-null   float64\n",
      " 3   danceability      990 non-null    float64\n",
      " 4   duration_ms       1000 non-null   float64\n",
      " 5   energy            1000 non-null   float64\n",
      " 6   instrumentalness  1000 non-null   float64\n",
      " 7   liveness          1000 non-null   float64\n",
      " 8   loudness          1000 non-null   float64\n",
      " 9   speechiness       990 non-null    float64\n",
      " 10  tempo             1000 non-null   float64\n",
      " 11  valence           1000 non-null   float64\n",
      " 12  genre             1000 non-null   int64  \n",
      "dtypes: float64(11), int64(2)\n",
      "memory usage: 101.7 KB\n"
     ]
    }
   ],
   "source": [
    "df.info()"
   ]
  },
  {
   "cell_type": "code",
   "execution_count": 12,
   "id": "66296aa6-39d6-45d6-91b1-6248366ae657",
   "metadata": {},
   "outputs": [],
   "source": [
    "ls_to_clean = ['genre', 'popularity', 'loudness', 'liveness', 'tempo']\n",
    "cln_df = df.dropna(subset=ls_to_clean)"
   ]
  },
  {
   "cell_type": "code",
   "execution_count": 13,
   "id": "1d35f6c9-59c7-4fa3-ade1-91f7576c3a75",
   "metadata": {},
   "outputs": [
    {
     "name": "stdout",
     "output_type": "stream",
     "text": [
      "<class 'pandas.core.frame.DataFrame'>\n",
      "Int64Index: 1000 entries, 0 to 999\n",
      "Data columns (total 13 columns):\n",
      " #   Column            Non-Null Count  Dtype  \n",
      "---  ------            --------------  -----  \n",
      " 0   Unnamed: 0        1000 non-null   int64  \n",
      " 1   popularity        1000 non-null   float64\n",
      " 2   acousticness      1000 non-null   float64\n",
      " 3   danceability      990 non-null    float64\n",
      " 4   duration_ms       1000 non-null   float64\n",
      " 5   energy            1000 non-null   float64\n",
      " 6   instrumentalness  1000 non-null   float64\n",
      " 7   liveness          1000 non-null   float64\n",
      " 8   loudness          1000 non-null   float64\n",
      " 9   speechiness       990 non-null    float64\n",
      " 10  tempo             1000 non-null   float64\n",
      " 11  valence           1000 non-null   float64\n",
      " 12  genre             1000 non-null   int64  \n",
      "dtypes: float64(11), int64(2)\n",
      "memory usage: 109.4 KB\n"
     ]
    }
   ],
   "source": [
    "cln_df.info()"
   ]
  },
  {
   "cell_type": "markdown",
   "id": "c7a7e8f6-eff6-4420-a358-046a62ad0e6d",
   "metadata": {},
   "source": [
    "## Imputing values\n",
    "\n",
    "Other method to deal with missing values is to replace them with other values. This approach usually requires some expertise knowledge or before hand detailed analysis to perform. \n",
    "\n",
    "We can impute values also with mean or median. And the categorical ones with the most frequent one."
   ]
  },
  {
   "cell_type": "code",
   "execution_count": 14,
   "id": "87f7d3ce-ab61-4985-844a-18e8cde1e27a",
   "metadata": {},
   "outputs": [],
   "source": [
    "from sklearn.impute import SimpleImputer\n",
    "from sklearn.model_selection import train_test_split\n",
    "\n",
    "#Splitting dataset vars to cat and numer\n",
    "X_cat = df['genre'].values.reshape(-1,1)\n",
    "X_num = df.drop(['genre', 'popularity'], axis=1).values\n",
    "y = df['popularity'].values"
   ]
  },
  {
   "cell_type": "code",
   "execution_count": 15,
   "id": "ee623ea2-567a-419a-98d2-414a48807841",
   "metadata": {},
   "outputs": [],
   "source": [
    "X_train_cat, X_test_cat, y_train, y_test = train_test_split(X_cat, y, test_size=0.2, random_state=42)\n",
    "X_train_num, X_test_num, y_train_, y_test = train_test_split(X_num, y, test_size=0.2, random_state=42)"
   ]
  },
  {
   "cell_type": "code",
   "execution_count": 16,
   "id": "55a004f4-02a9-4bfb-bc2c-1b036b3d34f1",
   "metadata": {},
   "outputs": [],
   "source": [
    "# Calling simple imputer for cat vars\n",
    "imp_cat = SimpleImputer(strategy='most_frequent')\n",
    "X_train_cat = imp_cat.fit_transform(X_train_cat)\n",
    "X_test_cat = imp_cat.transform(X_test_cat) # only transform, because we fitted the data to the training set\n"
   ]
  },
  {
   "cell_type": "code",
   "execution_count": 18,
   "id": "b47e8100-bea3-462e-85d7-b01246cf474f",
   "metadata": {},
   "outputs": [],
   "source": [
    "# Simple imputer for num vars\n",
    "imp_num = SimpleImputer()\n",
    "X_train_num = imp_num.fit_transform(X_train_num)\n",
    "X_test_num = imp_num.transform(X_test_num)\n",
    "\n",
    "# Combining imputed cat with num\n",
    "X_train = np.append(X_train_num, X_train_cat, axis=1)\n",
    "X_test = np.append(X_test_num, X_test_cat, axis=1)"
   ]
  },
  {
   "cell_type": "markdown",
   "id": "64ec1c66-6d5d-4a93-aaec-dd02d72e7542",
   "metadata": {},
   "source": [
    "## Imputing within pipeline\n",
    "\n",
    "In order to speed up the process we can use pipelines. Pipeline is an object, which allows to transform and train data in a single worfklow."
   ]
  },
  {
   "cell_type": "code",
   "execution_count": 20,
   "id": "9d48552a-d401-417d-ad13-5107c616e12b",
   "metadata": {},
   "outputs": [],
   "source": [
    "from sklearn.pipeline import Pipeline\n",
    "from sklearn.linear_model import LogisticRegression"
   ]
  },
  {
   "cell_type": "code",
   "execution_count": 22,
   "id": "7168de66-294d-4a7b-874b-387cb1ea5b15",
   "metadata": {},
   "outputs": [],
   "source": [
    "# consttrucitng steps\n",
    "steps = [('imputation', SimpleImputer()),\n",
    "         ('log_reg', LogisticRegression())]\n",
    "\n",
    "pip = Pipeline(steps)"
   ]
  },
  {
   "cell_type": "code",
   "execution_count": 23,
   "id": "d51e58cc-11fe-4bbb-9101-b4726d1d5132",
   "metadata": {},
   "outputs": [],
   "source": [
    "X = df.drop('genre', axis=1).values\n",
    "y = df['genre'].values"
   ]
  },
  {
   "cell_type": "code",
   "execution_count": 24,
   "id": "e2ee761e-8ec1-4e1c-b2d4-fcef73b7ec7e",
   "metadata": {},
   "outputs": [
    {
     "data": {
      "text/plain": [
       "0.8033333333333333"
      ]
     },
     "execution_count": 24,
     "metadata": {},
     "output_type": "execute_result"
    }
   ],
   "source": [
    "X_train, X_test, y_train, y_test = train_test_split(X,y, test_size=0.3,\n",
    "                                                    random_state=42)\n",
    "pip.fit(X_train, y_train)\n",
    "pip.score(X_test, y_test)"
   ]
  }
 ],
 "metadata": {
  "kernelspec": {
   "display_name": "Python 3 (ipykernel)",
   "language": "python",
   "name": "python3"
  },
  "language_info": {
   "codemirror_mode": {
    "name": "ipython",
    "version": 3
   },
   "file_extension": ".py",
   "mimetype": "text/x-python",
   "name": "python",
   "nbconvert_exporter": "python",
   "pygments_lexer": "ipython3",
   "version": "3.9.7"
  }
 },
 "nbformat": 4,
 "nbformat_minor": 5
}
