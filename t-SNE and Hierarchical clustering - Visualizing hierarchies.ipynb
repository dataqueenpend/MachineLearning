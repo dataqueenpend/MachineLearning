{
 "cells": [
  {
   "cell_type": "markdown",
   "id": "698086ac-f1b7-4eab-ab38-1836abf2d717",
   "metadata": {},
   "source": [
    "# Visualizing hierarchies\n"
   ]
  },
  {
   "cell_type": "markdown",
   "id": "7cd71978-a1b8-4752-8a30-7c5d0b336fe3",
   "metadata": {},
   "source": [
    "## t-SNE\n",
    "\n",
    "Creates 2d map of a dataset and provides useful insights about the proximity of the samples to one another."
   ]
  },
  {
   "attachments": {
    "dc9b5c96-dde3-450d-8bed-011ac3c01a8d.png": {
     "image/png": "[encoded data removed]"
    }
   },
   "cell_type": "markdown",
   "id": "57233d03-f31b-4ebc-b55a-c373c3790625",
   "metadata": {},
   "source": [
    "## Hierachacal groups\n",
    "\n",
    "Hierarchies are often found in a real worlds scenarios. Great example of such is:\n",
    "![image.png](attachment:dc9b5c96-dde3-450d-8bed-011ac3c01a8d.png)\n",
    "\n",
    "(datacamp image)\n"
   ]
  },
  {
   "cell_type": "markdown",
   "id": "aab68bd3-f0d2-467d-b1ae-9b002c463031",
   "metadata": {},
   "source": [
    "We will try to cluster eurovision voting countries and visualize it as a dendrogram (tree-like diagram)."
   ]
  },
  {
   "cell_type": "code",
   "execution_count": 17,
   "id": "b069fed3-2229-4547-aee9-202bbbb7a229",
   "metadata": {},
   "outputs": [],
   "source": [
    "import pandas as pd\n",
    "import numpy as np\n",
    "import matplotlib.pyplot as plt\n",
    "from scipy.cluster.hierarchy import linkage, dendrogram\n",
    "from scipy.spatial.distance import pdist"
   ]
  },
  {
   "cell_type": "code",
   "execution_count": 3,
   "id": "317fc269-fafd-4955-99b0-67c417be7500",
   "metadata": {},
   "outputs": [
    {
     "data": {
      "text/html": [
       "<div>\n",
       "<style scoped>\n",
       "    .dataframe tbody tr th:only-of-type {\n",
       "        vertical-align: middle;\n",
       "    }\n",
       "\n",
       "    .dataframe tbody tr th {\n",
       "        vertical-align: top;\n",
       "    }\n",
       "\n",
       "    .dataframe thead th {\n",
       "        text-align: right;\n",
       "    }\n",
       "</style>\n",
       "<table border=\"1\" class=\"dataframe\">\n",
       "  <thead>\n",
       "    <tr style=\"text-align: right;\">\n",
       "      <th></th>\n",
       "      <th>From country</th>\n",
       "      <th>To country</th>\n",
       "      <th>Jury A</th>\n",
       "      <th>Jury B</th>\n",
       "      <th>Jury C</th>\n",
       "      <th>Jury D</th>\n",
       "      <th>Jury E</th>\n",
       "      <th>Jury Rank</th>\n",
       "      <th>Televote Rank</th>\n",
       "      <th>Jury Points</th>\n",
       "      <th>Televote Points</th>\n",
       "    </tr>\n",
       "  </thead>\n",
       "  <tbody>\n",
       "    <tr>\n",
       "      <th>0</th>\n",
       "      <td>Albania</td>\n",
       "      <td>Belgium</td>\n",
       "      <td>20</td>\n",
       "      <td>16</td>\n",
       "      <td>24</td>\n",
       "      <td>22</td>\n",
       "      <td>24</td>\n",
       "      <td>25</td>\n",
       "      <td>14</td>\n",
       "      <td>NaN</td>\n",
       "      <td>NaN</td>\n",
       "    </tr>\n",
       "    <tr>\n",
       "      <th>1</th>\n",
       "      <td>Albania</td>\n",
       "      <td>Czech Republic</td>\n",
       "      <td>21</td>\n",
       "      <td>15</td>\n",
       "      <td>25</td>\n",
       "      <td>23</td>\n",
       "      <td>16</td>\n",
       "      <td>22</td>\n",
       "      <td>22</td>\n",
       "      <td>NaN</td>\n",
       "      <td>NaN</td>\n",
       "    </tr>\n",
       "    <tr>\n",
       "      <th>2</th>\n",
       "      <td>Albania</td>\n",
       "      <td>The Netherlands</td>\n",
       "      <td>22</td>\n",
       "      <td>14</td>\n",
       "      <td>23</td>\n",
       "      <td>24</td>\n",
       "      <td>21</td>\n",
       "      <td>24</td>\n",
       "      <td>24</td>\n",
       "      <td>NaN</td>\n",
       "      <td>NaN</td>\n",
       "    </tr>\n",
       "    <tr>\n",
       "      <th>3</th>\n",
       "      <td>Albania</td>\n",
       "      <td>Azerbaijan</td>\n",
       "      <td>19</td>\n",
       "      <td>12</td>\n",
       "      <td>11</td>\n",
       "      <td>21</td>\n",
       "      <td>11</td>\n",
       "      <td>13</td>\n",
       "      <td>19</td>\n",
       "      <td>NaN</td>\n",
       "      <td>NaN</td>\n",
       "    </tr>\n",
       "    <tr>\n",
       "      <th>4</th>\n",
       "      <td>Albania</td>\n",
       "      <td>Hungary</td>\n",
       "      <td>8</td>\n",
       "      <td>13</td>\n",
       "      <td>9</td>\n",
       "      <td>14</td>\n",
       "      <td>9</td>\n",
       "      <td>10</td>\n",
       "      <td>10</td>\n",
       "      <td>1.0</td>\n",
       "      <td>1.0</td>\n",
       "    </tr>\n",
       "  </tbody>\n",
       "</table>\n",
       "</div>"
      ],
      "text/plain": [
       "  From country       To country  Jury A  Jury B  Jury C  Jury D  Jury E  \\\n",
       "0      Albania          Belgium      20      16      24      22      24   \n",
       "1      Albania   Czech Republic      21      15      25      23      16   \n",
       "2      Albania  The Netherlands      22      14      23      24      21   \n",
       "3      Albania       Azerbaijan      19      12      11      21      11   \n",
       "4      Albania          Hungary       8      13       9      14       9   \n",
       "\n",
       "   Jury Rank  Televote Rank  Jury Points  Televote Points  \n",
       "0         25             14          NaN              NaN  \n",
       "1         22             22          NaN              NaN  \n",
       "2         24             24          NaN              NaN  \n",
       "3         13             19          NaN              NaN  \n",
       "4         10             10          1.0              1.0  "
      ]
     },
     "execution_count": 3,
     "metadata": {},
     "output_type": "execute_result"
    }
   ],
   "source": [
    "df = pd.read_csv('https://assets.datacamp.com/production/repositories/655/datasets/2a1f3ab7bcc76eef1b8e1eb29afbd54c4ebf86f2/eurovision-2016.csv')\n",
    "df.head()"
   ]
  },
  {
   "cell_type": "code",
   "execution_count": 10,
   "id": "1c8796ea-af0c-4cb4-aa04-22125198781a",
   "metadata": {},
   "outputs": [
    {
     "name": "stdout",
     "output_type": "stream",
     "text": [
      "<class 'pandas.core.frame.DataFrame'>\n",
      "RangeIndex: 1066 entries, 0 to 1065\n",
      "Data columns (total 11 columns):\n",
      " #   Column           Non-Null Count  Dtype  \n",
      "---  ------           --------------  -----  \n",
      " 0   From country     1066 non-null   object \n",
      " 1   To country       1066 non-null   object \n",
      " 2   Jury A           1066 non-null   int64  \n",
      " 3   Jury B           1066 non-null   int64  \n",
      " 4   Jury C           1066 non-null   int64  \n",
      " 5   Jury D           1066 non-null   int64  \n",
      " 6   Jury E           1066 non-null   int64  \n",
      " 7   Jury Rank        1066 non-null   int64  \n",
      " 8   Televote Rank    1066 non-null   int64  \n",
      " 9   Jury Points      420 non-null    float64\n",
      " 10  Televote Points  420 non-null    float64\n",
      "dtypes: float64(2), int64(7), object(2)\n",
      "memory usage: 91.7+ KB\n"
     ]
    }
   ],
   "source": [
    "df.info()"
   ]
  },
  {
   "cell_type": "code",
   "execution_count": 27,
   "id": "62579edd-e357-4680-b6a2-05f79bfa939f",
   "metadata": {},
   "outputs": [],
   "source": [
    "samples = df.values[:25,-4].astype(float)\n",
    "country_names = df.values[:25,1]"
   ]
  },
  {
   "cell_type": "markdown",
   "id": "42156a5a-90e8-4bf9-bdb8-9bda18caa7c6",
   "metadata": {},
   "source": [
    "In the begining every country has its own cluster. The number of clusters is equal to the number of countries. With every step the two closest clusters are merged. The process iterates until it is only one cluster. \n",
    "\n",
    "This type of hierarchical clustering is called 'agglomerative'. On the opposite side we have 'divise' clustering."
   ]
  },
  {
   "cell_type": "markdown",
   "id": "03e29740-cd97-430b-9bac-d204bc73d813",
   "metadata": {},
   "source": [
    "We already selected the necessary columns with scores and names of the countries. Let's link them with scipy."
   ]
  },
  {
   "cell_type": "code",
   "execution_count": 28,
   "id": "1ec1533d-017d-4e3e-911b-98b0e6cf2619",
   "metadata": {},
   "outputs": [],
   "source": [
    "# calc the distance matrix (linkage func is expecting distance matrix)\n",
    "distance_matrix = pdist(samples.reshape(-1,1))\n",
    "mergins = linkage(distance_matrix, method='complete')"
   ]
  },
  {
   "cell_type": "code",
   "execution_count": 33,
   "id": "602f3da0-2d43-42fc-8486-10f8d7d7b11c",
   "metadata": {},
   "outputs": [
    {
     "data": {
      "image/png": "[encoded data removed]",
      "text/plain": [
       "<Figure size 432x288 with 1 Axes>"
      ]
     },
     "metadata": {
      "needs_background": "light"
     },
     "output_type": "display_data"
    },
    {
     "data": {
      "text/plain": [
       "<Figure size 1800x1080 with 0 Axes>"
      ]
     },
     "metadata": {},
     "output_type": "display_data"
    }
   ],
   "source": [
    "# passing output of linkage to dendrogram func\n",
    "dendrogram(mergins,\n",
    "           labels=country_names,\n",
    "           leaf_rotation=90,\n",
    "           leaf_font_size=6)\n",
    "plt.figure(figsize=(25,15))\n",
    "plt.show()"
   ]
  }
 ],
 "metadata": {
  "kernelspec": {
   "display_name": "Python 3 (ipykernel)",
   "language": "python",
   "name": "python3"
  },
  "language_info": {
   "codemirror_mode": {
    "name": "ipython",
    "version": 3
   },
   "file_extension": ".py",
   "mimetype": "text/x-python",
   "name": "python",
   "nbconvert_exporter": "python",
   "pygments_lexer": "ipython3",
   "version": "3.9.7"
  }
 },
 "nbformat": 4,
 "nbformat_minor": 5
}
