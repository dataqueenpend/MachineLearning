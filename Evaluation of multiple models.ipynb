{
 "cells": [
  {
   "cell_type": "markdown",
   "id": "4ac5942f-876d-4233-91d1-5f42c7a17797",
   "metadata": {},
   "source": [
    "# Evaluation of multiple models - How to choose the best models for our needs?\n",
    "\n",
    "We need to take various variables into the exercise. Choosing the right model is not an obvious task. \n",
    "\n",
    "What to keep in mind upon choosing the best model?\n",
    "\n",
    "* size od the dataset, \n",
    "* number of features (more features can leads toward longer processing time)\n",
    "* type of the model in case of the dataset size - some models, can perform better than others but need more data to train (neural networks),\n",
    "* easier models, are easier to explaing to stakeholders."
   ]
  },
  {
   "cell_type": "markdown",
   "id": "87569c89-33ba-4c59-b4df-3eebd59eb719",
   "metadata": {},
   "source": [
    "## Regresssion models evaluation\n",
    "* RMSE,\n",
    "* R-squared.\n",
    "\n",
    "## Classification models evaluation\n",
    "* Accuracy,\n",
    "* Confusion matrix,\n",
    "* Precision, recall, F1-scorem\n",
    "* ROC AUC"
   ]
  },
  {
   "cell_type": "markdown",
   "id": "d8b60a08-f5f3-4764-ae7e-e98298be8ffc",
   "metadata": {},
   "source": [
    "## Scaling for best results?\n",
    "\n",
    "Some models - which are build upon some distance measuring - can be strongly affected by scaling. \n",
    "\n",
    "*Remember to deal with outliers upon normalization, because they can strongly affect model performance.*\n",
    "\n",
    "Models performance, that will welcome the well performed scaling:\n",
    "* KNN, \n",
    "* Linear Regression (Ridge and Lasso also),\n",
    "* Logistic Regression,\n",
    "* Neural Networks.\n",
    "\n"
   ]
  },
  {
   "cell_type": "markdown",
   "id": "2bf4939b-e02f-4c24-92b1-ec09835ad6fd",
   "metadata": {},
   "source": [
    "## Example"
   ]
  },
  {
   "cell_type": "code",
   "execution_count": 3,
   "id": "2aba2465-8424-4669-8f80-4d4215a64187",
   "metadata": {},
   "outputs": [],
   "source": [
    "import numpy as np\n",
    "import matplotlib.pyplot as plt\n",
    "import pandas as pd\n",
    "from sklearn.preprocessing import StandardScaler\n",
    "from sklearn.model_selection import cross_val_score, KFold, train_test_split\n",
    "from sklearn.neighbors import KNeighborsClassifier\n",
    "from sklearn.linear_model import LogisticRegression\n",
    "from sklearn.tree import DecisionTreeClassifier"
   ]
  },
  {
   "cell_type": "code",
   "execution_count": 5,
   "id": "454ddc11-52b6-4ee1-8014-86d1f8ec4b8c",
   "metadata": {},
   "outputs": [
    {
     "name": "stdout",
     "output_type": "stream",
     "text": [
      "<class 'pandas.core.frame.DataFrame'>\n",
      "RangeIndex: 1000 entries, 0 to 999\n",
      "Data columns (total 13 columns):\n",
      " #   Column            Non-Null Count  Dtype  \n",
      "---  ------            --------------  -----  \n",
      " 0   Unnamed: 0        1000 non-null   int64  \n",
      " 1   popularity        1000 non-null   float64\n",
      " 2   acousticness      1000 non-null   float64\n",
      " 3   danceability      1000 non-null   float64\n",
      " 4   duration_ms       1000 non-null   float64\n",
      " 5   energy            1000 non-null   float64\n",
      " 6   instrumentalness  1000 non-null   float64\n",
      " 7   liveness          1000 non-null   float64\n",
      " 8   loudness          1000 non-null   float64\n",
      " 9   speechiness       1000 non-null   float64\n",
      " 10  tempo             1000 non-null   float64\n",
      " 11  valence           1000 non-null   float64\n",
      " 12  genre             1000 non-null   int64  \n",
      "dtypes: float64(11), int64(2)\n",
      "memory usage: 101.7 KB\n"
     ]
    }
   ],
   "source": [
    "df = pd.read_csv('music_clean.csv')\n",
    "df.info()"
   ]
  },
  {
   "cell_type": "code",
   "execution_count": 7,
   "id": "fbd73e44-0805-418f-8e9b-44a1876ca6d7",
   "metadata": {},
   "outputs": [],
   "source": [
    "X = df.drop('genre', axis=1).values\n",
    "y = df['genre'].values\n",
    "\n",
    "X_train, X_test, y_train, y_test = train_test_split(X,y, random_state=42)\n",
    "sc = StandardScaler()\n",
    "\n",
    "X_train_sc = sc.fit_transform(X_train)\n",
    "X_test_sc = sc.transform(X_test)"
   ]
  },
  {
   "cell_type": "code",
   "execution_count": 8,
   "id": "9dba37b1-3dd7-4ba9-920f-75226e00d457",
   "metadata": {},
   "outputs": [],
   "source": [
    "models = {'logreg': LogisticRegression(),\n",
    "          'knn': KNeighborsClassifier(),\n",
    "          'tree': DecisionTreeClassifier()}\n",
    "results = []                              "
   ]
  },
  {
   "cell_type": "code",
   "execution_count": 11,
   "id": "3f7e9a29-7d1f-4ea3-8e6a-a980fde97dc1",
   "metadata": {},
   "outputs": [
    {
     "data": {
      "image/png": "[encoded data removed]",
      "text/plain": [
       "<Figure size 432x288 with 1 Axes>"
      ]
     },
     "metadata": {
      "needs_background": "light"
     },
     "output_type": "display_data"
    }
   ],
   "source": [
    "for model in models.values():\n",
    "    kf = KFold(n_splits=6, random_state=42, shuffle=True)\n",
    "    \n",
    "    cv_res = cross_val_score(model,X_train_sc, y_train, cv = kf)\n",
    "    results.append(cv_res)\n",
    "    \n",
    "plt.boxplot(results, labels = models.keys())\n",
    "plt.show()"
   ]
  },
  {
   "cell_type": "markdown",
   "id": "5a6c412f-a439-4d1c-b90f-4beb1101ca7a",
   "metadata": {},
   "source": [
    "On training set the logistic regression model seems to have the best mean performance. Tree is probably overfitting.\n",
    "\n",
    "Let's see the performance on test set."
   ]
  },
  {
   "cell_type": "code",
   "execution_count": 13,
   "id": "ae38a384-2421-4661-bcd2-4f6b5be373ac",
   "metadata": {},
   "outputs": [
    {
     "name": "stdout",
     "output_type": "stream",
     "text": [
      "logreg Test set accuracy: 0.864\n",
      "knn Test set accuracy: 0.888\n",
      "tree Test set accuracy: 1.0\n"
     ]
    }
   ],
   "source": [
    "for name, model in models.items():\n",
    "    model.fit(X_train_sc, y_train)\n",
    "    test_score = model.score(X_test_sc, y_test)\n",
    "    print(f'{name} Test set accuracy: {test_score}') "
   ]
  },
  {
   "cell_type": "markdown",
   "id": "5663fd7e-b7e1-4cbb-a162-453fe0704033",
   "metadata": {},
   "source": [
    "And it seems that knn is slightly better on test set. \n",
    "Further evaluation of the model would be necessary for the correct evalution."
   ]
  }
 ],
 "metadata": {
  "kernelspec": {
   "display_name": "Python 3 (ipykernel)",
   "language": "python",
   "name": "python3"
  },
  "language_info": {
   "codemirror_mode": {
    "name": "ipython",
    "version": 3
   },
   "file_extension": ".py",
   "mimetype": "text/x-python",
   "name": "python",
   "nbconvert_exporter": "python",
   "pygments_lexer": "ipython3",
   "version": "3.9.7"
  }
 },
 "nbformat": 4,
 "nbformat_minor": 5
}
