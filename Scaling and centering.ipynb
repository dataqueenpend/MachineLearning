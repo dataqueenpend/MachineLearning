{
 "cells": [
  {
   "cell_type": "markdown",
   "id": "12730419-f7c8-4e8b-8146-995bd19c9199",
   "metadata": {},
   "source": [
    "# Centering and scaling\n"
   ]
  },
  {
   "cell_type": "code",
   "execution_count": 1,
   "id": "31b8bd26-aa8f-4485-9833-8707f4c5bde6",
   "metadata": {},
   "outputs": [],
   "source": [
    "import numpy as np\n",
    "import pandas as pd"
   ]
  },
  {
   "cell_type": "code",
   "execution_count": 2,
   "id": "31485db3-95e9-49a5-b7c4-f08e1441481a",
   "metadata": {},
   "outputs": [
    {
     "name": "stdout",
     "output_type": "stream",
     "text": [
      "<class 'pandas.core.frame.DataFrame'>\n",
      "RangeIndex: 1000 entries, 0 to 999\n",
      "Data columns (total 13 columns):\n",
      " #   Column            Non-Null Count  Dtype  \n",
      "---  ------            --------------  -----  \n",
      " 0   Unnamed: 0        1000 non-null   int64  \n",
      " 1   popularity        1000 non-null   float64\n",
      " 2   acousticness      1000 non-null   float64\n",
      " 3   danceability      1000 non-null   float64\n",
      " 4   duration_ms       1000 non-null   float64\n",
      " 5   energy            1000 non-null   float64\n",
      " 6   instrumentalness  1000 non-null   float64\n",
      " 7   liveness          1000 non-null   float64\n",
      " 8   loudness          1000 non-null   float64\n",
      " 9   speechiness       1000 non-null   float64\n",
      " 10  tempo             1000 non-null   float64\n",
      " 11  valence           1000 non-null   float64\n",
      " 12  genre             1000 non-null   int64  \n",
      "dtypes: float64(11), int64(2)\n",
      "memory usage: 101.7 KB\n"
     ]
    }
   ],
   "source": [
    "df = pd.read_csv('music_clean.csv')\n",
    "df.info()"
   ]
  },
  {
   "cell_type": "code",
   "execution_count": 3,
   "id": "610b4b7b-a233-49d6-a673-c09d30cabcdc",
   "metadata": {},
   "outputs": [
    {
     "name": "stdout",
     "output_type": "stream",
     "text": [
      "        duration_ms     loudness  speechiness\n",
      "count  1.000000e+03  1000.000000  1000.000000\n",
      "mean   2.172204e+05    -8.253305     0.077879\n",
      "std    1.175582e+05     5.158523     0.089451\n",
      "min   -1.000000e+00   -38.718000     0.023400\n",
      "25%    1.806562e+05    -9.775500     0.033100\n",
      "50%    2.163000e+05    -6.855000     0.043600\n",
      "75%    2.605025e+05    -4.977750     0.074950\n",
      "max    1.617333e+06    -0.883000     0.710000\n"
     ]
    }
   ],
   "source": [
    "print(df[['duration_ms', 'loudness', 'speechiness']].describe())"
   ]
  },
  {
   "cell_type": "markdown",
   "id": "bec98769-04f0-48d6-8c94-d78a51c949d6",
   "metadata": {},
   "source": [
    "In above example we see that ranges in our dataset are vary wide. Some models can be influence by this disproportion in scales. Why? Because a lot of models use some form of distance to generalize on data (knn). \n",
    "\n",
    "In order to prevent bad generalization we want features to be on a similar scale. So let's see how to normalize or standardize the data. "
   ]
  },
  {
   "cell_type": "markdown",
   "id": "d87f9a43-e5fe-4cc2-9055-8591e9a2b5a4",
   "metadata": {},
   "source": [
    "## Scaling\n",
    "\n",
    "In order to **standardize** the data we subtract the mean and divide by variance. In a result all the data is centered around zero and have a variance equal to 1.\n",
    "\n",
    "We can also use **normalization**, to scale the data to a specific range. Usually it is a range between -1 and 1 or 0 and 1.\n",
    "\n",
    "**Beware of the traps!**\n",
    "\n",
    "Normalization is sensitive to outliers. It uses maximum and minimum vlaues to perform scaling. If the outliers are present in the dataset they can affect the scaling process. \n",
    "\n",
    "*Other things to keep in mind upon choosing the best scaling method?*\n",
    "* Impact on data distribution\n",
    "* Interpretaion of Transformed Values\n",
    "* Algorithm Sensitivity"
   ]
  },
  {
   "cell_type": "code",
   "execution_count": 6,
   "id": "a35c2dc3-39b8-4a68-a15b-0e2b907c153c",
   "metadata": {},
   "outputs": [
    {
     "name": "stdout",
     "output_type": "stream",
     "text": [
      "20666.582585618085 68890.98734103922\n",
      "3.5971225997855074e-16 0.9999999999999996\n"
     ]
    }
   ],
   "source": [
    "import numpy as np\n",
    "from sklearn.preprocessing import StandardScaler\n",
    "from sklearn.model_selection import train_test_split\n",
    "X = df.drop('genre', axis=1).values\n",
    "y = df['genre'].values\n",
    "\n",
    "# Splitting to avoid data leakage\n",
    "X_train, X_test, y_train, y_test = train_test_split(X,y, test_size=.2, random_state=42)\n",
    "\n",
    "sc = StandardScaler()\n",
    "X_train_scaled = sc.fit_transform(X_train) #fitting and transofrming the training set\n",
    "X_test_scaled = sc.transform(X_test) # transforming the test set\n",
    "\n",
    "# Let's look on the mean and std\n",
    "\n",
    "print(np.mean(X), np.std(X))\n",
    "print(np.mean(X_train_scaled), np.std(X_train_scaled))"
   ]
  },
  {
   "cell_type": "markdown",
   "id": "c624ea93-95e8-4b42-8e80-0d12709db7ef",
   "metadata": {},
   "source": [
    "# Scaling in pipeline"
   ]
  },
  {
   "cell_type": "code",
   "execution_count": 7,
   "id": "2143b34f-e80e-4159-9b0b-6c95585915c8",
   "metadata": {},
   "outputs": [
    {
     "data": {
      "text/plain": [
       "0.89"
      ]
     },
     "execution_count": 7,
     "metadata": {},
     "output_type": "execute_result"
    }
   ],
   "source": [
    "from sklearn.pipeline import Pipeline\n",
    "from sklearn.neighbors import KNeighborsClassifier\n",
    "\n",
    "steps = [('scaler', StandardScaler()),\n",
    "         ('knn', KNeighborsClassifier(n_neighbors=6))]\n",
    "\n",
    "pip = Pipeline(steps)\n",
    "\n",
    "knn_sc = pip.fit(X_train, y_train)\n",
    "y_pred = knn_sc.predict(X_test)\n",
    "knn_sc.score(X_test, y_test)"
   ]
  },
  {
   "cell_type": "code",
   "execution_count": 8,
   "id": "d221c414-38fe-49e2-93b5-ef94f3aec486",
   "metadata": {},
   "outputs": [
    {
     "data": {
      "text/plain": [
       "0.925"
      ]
     },
     "execution_count": 8,
     "metadata": {},
     "output_type": "execute_result"
    }
   ],
   "source": [
    "# Let's compare the scores with unscale data\n",
    "\n",
    "knn = KNeighborsClassifier(n_neighbors=6)\n",
    "knn.fit(X_train, y_train)\n",
    "y_pred = knn.predict(X_test)\n",
    "knn.score(X_test, y_test)"
   ]
  },
  {
   "cell_type": "markdown",
   "id": "a7cadac0-53ce-4878-9865-bb32c2a7b895",
   "metadata": {},
   "source": [
    "It seems like this time scaling could yield different results than expected XDDD."
   ]
  },
  {
   "cell_type": "markdown",
   "id": "2fa4508d-f654-4ebe-9709-9cc6e38b620f",
   "metadata": {},
   "source": [
    "## CV and scaling in pipeline"
   ]
  },
  {
   "cell_type": "code",
   "execution_count": 10,
   "id": "3c096eda-d538-47c4-b743-773dfc22b9d8",
   "metadata": {},
   "outputs": [
    {
     "data": {
      "text/plain": [
       "(0.9287500000000002, {'knn__n_neighbors': 2})"
      ]
     },
     "execution_count": 10,
     "metadata": {},
     "output_type": "execute_result"
    }
   ],
   "source": [
    "from sklearn.pipeline import Pipeline\n",
    "from sklearn.neighbors import KNeighborsClassifier\n",
    "from sklearn.model_selection import GridSearchCV\n",
    "\n",
    "steps = [('scaler', StandardScaler()),\n",
    "         ('knn', KNeighborsClassifier(n_neighbors=6))]\n",
    "\n",
    "pip = Pipeline(steps)\n",
    "params = {'knn__n_neighbors': np.arange(1,50)}\n",
    "\n",
    "cv = GridSearchCV(pip, param_grid=params)\n",
    "cv.fit(X_train, y_train)\n",
    "y_pred = cv.predict(X_test)\n",
    "cv.score(X_test, y_test)\n",
    "cv.best_score_, cv.best_params_"
   ]
  }
 ],
 "metadata": {
  "kernelspec": {
   "display_name": "Python 3 (ipykernel)",
   "language": "python",
   "name": "python3"
  },
  "language_info": {
   "codemirror_mode": {
    "name": "ipython",
    "version": 3
   },
   "file_extension": ".py",
   "mimetype": "text/x-python",
   "name": "python",
   "nbconvert_exporter": "python",
   "pygments_lexer": "ipython3",
   "version": "3.9.7"
  }
 },
 "nbformat": 4,
 "nbformat_minor": 5
}
