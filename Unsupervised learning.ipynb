{
 "cells": [
  {
   "cell_type": "markdown",
   "id": "2de0b8c1-d8ae-4d96-8860-a7fccccc10b8",
   "metadata": {},
   "source": [
    "# Unsupervised learning\n",
    "\n",
    "**Uses of unsupervised learning**\n",
    "\n",
    "* Finding patterns in data\n",
    "* Clustering customers\n",
    "* Dimension reduction (compressing the data using patterns)\n",
    "\n",
    "Unsupervised learning algo's:\n",
    "## KMeans\n",
    "\n",
    "Finds specified number of clusters in the data. "
   ]
  },
  {
   "cell_type": "code",
   "execution_count": 15,
   "id": "d53b343b-1252-4c49-8f9c-4b71892a02f7",
   "metadata": {},
   "outputs": [],
   "source": [
    "from sklearn.cluster import KMeans\n",
    "from sklearn.model_selection import train_test_split\n",
    "import matplotlib.pyplot as plt\n",
    "import pandas as pd"
   ]
  },
  {
   "cell_type": "code",
   "execution_count": 3,
   "id": "ffacb25e-96a2-4635-95d1-a374b4e21589",
   "metadata": {},
   "outputs": [],
   "source": [
    "from sklearn import datasets\n",
    "\n",
    "iris = datasets.load_iris()\n"
   ]
  },
  {
   "cell_type": "code",
   "execution_count": 4,
   "id": "68752043-a8df-4c16-bff0-3bbb8becc0c9",
   "metadata": {},
   "outputs": [
    {
     "data": {
      "text/plain": [
       "dict_keys(['data', 'target', 'frame', 'target_names', 'DESCR', 'feature_names', 'filename'])"
      ]
     },
     "execution_count": 4,
     "metadata": {},
     "output_type": "execute_result"
    }
   ],
   "source": [
    "iris.keys()"
   ]
  },
  {
   "cell_type": "code",
   "execution_count": 10,
   "id": "058bc251-a362-488e-8a60-473af4fc1c0e",
   "metadata": {},
   "outputs": [],
   "source": [
    "X_train, X_test, y_train, y_test = train_test_split(iris.data, iris.target, random_state=42,\n",
    "                                                    test_size=0.2)"
   ]
  },
  {
   "cell_type": "code",
   "execution_count": 11,
   "id": "c00873f1-2f6d-47ef-af4c-5b9c47575b79",
   "metadata": {},
   "outputs": [
    {
     "data": {
      "text/plain": [
       "KMeans(n_clusters=3)"
      ]
     },
     "execution_count": 11,
     "metadata": {},
     "output_type": "execute_result"
    }
   ],
   "source": [
    "km = KMeans(n_clusters=3)\n",
    "km.fit(X_train)"
   ]
  },
  {
   "cell_type": "markdown",
   "id": "e758e583-427b-40c4-bd08-aa7c5a217d99",
   "metadata": {},
   "source": [
    "You can already see the difference upon fitting the data. We do not fit to the y_train (labels). But only to the X_train (values)."
   ]
  },
  {
   "cell_type": "code",
   "execution_count": 12,
   "id": "75da5aeb-a6c1-4c9b-8d86-f24f4bd7dad4",
   "metadata": {},
   "outputs": [],
   "source": [
    "lables = km.predict(X_train)"
   ]
  },
  {
   "cell_type": "code",
   "execution_count": 13,
   "id": "0dedbeaa-916b-4734-b14a-ebbb42deeb65",
   "metadata": {},
   "outputs": [
    {
     "data": {
      "text/plain": [
       "array([1, 1, 2, 1, 1, 2, 2, 1, 1, 1, 2, 2, 2, 1, 1, 2, 2, 0, 2, 0, 2, 0,\n",
       "       2, 1, 0, 2, 1, 1, 1, 2, 2, 1, 1, 1, 2, 1, 2, 0, 1, 2, 2, 1, 2, 2,\n",
       "       2, 2, 0, 2, 1, 2, 0, 1, 1, 2, 0, 1, 2, 1, 1, 2, 2, 0, 2, 0, 0, 2,\n",
       "       1, 1, 2, 0, 1, 1, 1, 2, 0, 1, 0, 0, 1, 2, 2, 2, 0, 0, 1, 0, 2, 0,\n",
       "       2, 2, 2, 1, 2, 2, 1, 2, 0, 0, 1, 2, 0, 0, 1, 0, 1, 0, 0, 0, 2, 0,\n",
       "       2, 2, 2, 2, 1, 2, 2, 1, 2, 0])"
      ]
     },
     "execution_count": 13,
     "metadata": {},
     "output_type": "execute_result"
    }
   ],
   "source": [
    "lables"
   ]
  },
  {
   "cell_type": "markdown",
   "id": "877755db-de61-444d-ac84-151e0d1107f5",
   "metadata": {},
   "source": [
    "Predicitng on the new data (in our case the test values) is the same as with the supervised learning models."
   ]
  },
  {
   "cell_type": "code",
   "execution_count": 9,
   "id": "483107a8-b159-44d3-b43d-8f984e89eb5d",
   "metadata": {},
   "outputs": [
    {
     "data": {
      "text/plain": [
       "array([0, 1, 2, 0, 0, 1, 0, 2, 0, 0, 2, 1, 1, 1, 1, 0, 2, 0, 0, 2, 1, 0,\n",
       "       1, 2, 2, 2, 2, 2, 1, 1])"
      ]
     },
     "execution_count": 9,
     "metadata": {},
     "output_type": "execute_result"
    }
   ],
   "source": [
    "new_labels = km.predict(X_test)\n",
    "new_labels\n"
   ]
  },
  {
   "cell_type": "markdown",
   "id": "423c608a-9b30-4cc1-8b10-cee37105460f",
   "metadata": {},
   "source": [
    "We can evaluate model performance by using scatter plots:"
   ]
  },
  {
   "cell_type": "code",
   "execution_count": 20,
   "id": "f1ebb98b-b055-4054-909f-1e57ec5f24e5",
   "metadata": {},
   "outputs": [],
   "source": [
    "xs = X_test[:, 0] # Selecting sepal length - 0th column\n",
    "ys = X_test[:, 2] # Selecintg petal length - 2nd column"
   ]
  },
  {
   "cell_type": "code",
   "execution_count": 11,
   "id": "069c9f19-88ba-447c-bd95-ac34f56f1481",
   "metadata": {},
   "outputs": [
    {
     "data": {
      "text/plain": [
       "array([4.6, 5.7, 6.7, 4.8, 4.4, 6.3, 6.4, 5.2, 5. , 5.2, 5.8, 6. , 6.7,\n",
       "       5.4, 5.4, 5.5, 6.3, 6.4, 6.6, 7.2, 5.7, 7.6, 5.6, 5.1, 7.7, 5.8,\n",
       "       5.2, 5. , 5.1, 5. , 6.3, 4.8, 5. , 5.1, 5.6, 5.1, 5.7, 7.7, 4.6,\n",
       "       6.2, 5.7, 5.5, 6. , 5.8, 6. , 5.4, 6.2, 5.5, 5.4, 5. , 6.4, 5. ,\n",
       "       5. , 5.5, 6.7, 4.9, 5.8, 5. , 5. , 5.9, 5.1, 6.9, 6. , 6.1, 7.7,\n",
       "       5.5, 4.4, 4.3, 6. , 7.2, 4.6, 5.1, 4.4, 6.3, 6.3, 4.6, 6.8, 6.3,\n",
       "       4.7, 6.1, 6.5, 6.2, 7. , 6.4, 5.1, 6.9, 5.9, 6.5, 5.7, 5.2, 6.1,\n",
       "       4.5, 6.6, 5.5, 5.3, 5.6, 7.3, 6.7, 5.1, 4.9, 6.7, 7.2, 4.9, 6.7,\n",
       "       4.9, 6.9, 7.4, 6.3, 5.7, 6.5, 6.3, 6.4, 5.6, 5.9, 5.4, 6.1, 4.9,\n",
       "       5.8, 5.8, 7.1])"
      ]
     },
     "execution_count": 11,
     "metadata": {},
     "output_type": "execute_result"
    }
   ],
   "source": [
    "xs"
   ]
  },
  {
   "cell_type": "code",
   "execution_count": 12,
   "id": "042b1d09-1bc3-4064-b094-fb834e0e5c27",
   "metadata": {},
   "outputs": [
    {
     "data": {
      "text/plain": [
       "array([1. , 1.5, 4.4, 1.6, 1.3, 5. , 4.5, 1.5, 1.4, 1.5, 5.1, 4.5, 4.7,\n",
       "       1.3, 1.5, 3.7, 5.1, 5.5, 4.4, 6.1, 4.2, 6.6, 4.5, 1.4, 6.7, 4.1,\n",
       "       1.4, 1.3, 1.9, 3.5, 4.9, 1.9, 1.6, 1.7, 4.2, 1.5, 4.2, 6.7, 1.4,\n",
       "       4.3, 5. , 1.4, 4.8, 5.1, 4. , 4.5, 5.4, 4. , 1.7, 3.3, 5.3, 1.4,\n",
       "       1.2, 3.8, 5. , 1.5, 5.1, 1.5, 1.6, 4.8, 3. , 5.7, 5.1, 5.6, 6.1,\n",
       "       4. , 1.4, 1.1, 5. , 6. , 1.5, 1.4, 1.3, 4.9, 5.6, 1.4, 5.5, 6. ,\n",
       "       1.3, 4.7, 4.6, 4.8, 4.7, 5.3, 1.6, 5.4, 4.2, 5.2, 3.5, 3.9, 4.6,\n",
       "       1.3, 4.6, 4.4, 1.5, 4.1, 6.3, 5.7, 1.5, 3.3, 5.7, 5.8, 1.4, 5.6,\n",
       "       1.4, 4.9, 6.1, 5.6, 4.1, 5.5, 4.4, 4.3, 4.9, 5.1, 1.7, 4. , 4.5,\n",
       "       1.2, 4. , 5.9])"
      ]
     },
     "execution_count": 12,
     "metadata": {},
     "output_type": "execute_result"
    }
   ],
   "source": [
    "ys"
   ]
  },
  {
   "cell_type": "code",
   "execution_count": 21,
   "id": "c6336bd6-4c9c-48f3-935b-78a66952c952",
   "metadata": {},
   "outputs": [
    {
     "data": {
      "text/plain": [
       "array([[5.85686275, 2.73137255, 4.38627451, 1.44313725],\n",
       "       [4.99      , 3.4525    , 1.45      , 0.245     ],\n",
       "       [6.85517241, 3.10344828, 5.70689655, 2.02068966]])"
      ]
     },
     "execution_count": 21,
     "metadata": {},
     "output_type": "execute_result"
    }
   ],
   "source": [
    "centroids = km.cluster_centers_\n",
    "centroids"
   ]
  },
  {
   "cell_type": "code",
   "execution_count": 22,
   "id": "537f21ca-34e5-4e05-9f0d-c9f29c904f3d",
   "metadata": {},
   "outputs": [
    {
     "data": {
      "text/plain": [
       "array([5.85686275, 4.99      , 6.85517241])"
      ]
     },
     "execution_count": 22,
     "metadata": {},
     "output_type": "execute_result"
    }
   ],
   "source": [
    "centroids_X = centroids[:,0]\n",
    "centroids_y = centroids[:,1]\n",
    "centroids_X"
   ]
  },
  {
   "cell_type": "code",
   "execution_count": 23,
   "id": "bcf1803e-1642-4936-8e67-45f5b9a30a6b",
   "metadata": {},
   "outputs": [
    {
     "data": {
      "text/plain": [
       "array([2.73137255, 3.4525    , 3.10344828])"
      ]
     },
     "execution_count": 23,
     "metadata": {},
     "output_type": "execute_result"
    }
   ],
   "source": [
    "centroids_y"
   ]
  },
  {
   "cell_type": "code",
   "execution_count": 25,
   "id": "648f0324-dcfd-4331-a309-701f3b18d1d3",
   "metadata": {},
   "outputs": [
    {
     "data": {
      "image/png": "[encoded data removed]",
      "text/plain": [
       "<Figure size 432x288 with 1 Axes>"
      ]
     },
     "metadata": {
      "needs_background": "light"
     },
     "output_type": "display_data"
    }
   ],
   "source": [
    "plt.scatter(xs, ys, c=new_labels)\n",
    "plt.scatter(centroids_X, centroids_y, marker='D', s=50)\n",
    "plt.show()"
   ]
  },
  {
   "cell_type": "markdown",
   "id": "32608297-af23-4c83-9dc3-485e4507c45a",
   "metadata": {},
   "source": [
    "## Clustering evaluation\n",
    "\n",
    "We can evaluate model performance by cross tabulation table."
   ]
  },
  {
   "cell_type": "code",
   "execution_count": 20,
   "id": "a754f669-666f-417d-8640-939d4d2d8862",
   "metadata": {},
   "outputs": [],
   "source": [
    "# clustering without splitting data\n",
    "km = KMeans(n_clusters=3)\n",
    "km.fit(iris.data)\n",
    "labels = km.predict(iris.data)"
   ]
  },
  {
   "cell_type": "code",
   "execution_count": 4,
   "id": "3f9b7e63-83fd-410a-8752-a07010f3b2ac",
   "metadata": {},
   "outputs": [
    {
     "data": {
      "text/plain": [
       "dict_keys(['data', 'target', 'frame', 'target_names', 'DESCR', 'feature_names', 'filename'])"
      ]
     },
     "execution_count": 4,
     "metadata": {},
     "output_type": "execute_result"
    }
   ],
   "source": [
    "iris.keys()"
   ]
  },
  {
   "cell_type": "code",
   "execution_count": 7,
   "id": "a43984a4-6a57-48ac-a8cc-1ecf1a8760c9",
   "metadata": {},
   "outputs": [
    {
     "data": {
      "text/plain": [
       "array(['setosa', 'versicolor', 'virginica'], dtype='<U10')"
      ]
     },
     "execution_count": 7,
     "metadata": {},
     "output_type": "execute_result"
    }
   ],
   "source": [
    "iris.target_names"
   ]
  },
  {
   "cell_type": "code",
   "execution_count": 8,
   "id": "9c6f0114-0186-4e48-8744-2adfb01dfa7f",
   "metadata": {},
   "outputs": [
    {
     "data": {
      "text/plain": [
       "['sepal length (cm)',\n",
       " 'sepal width (cm)',\n",
       " 'petal length (cm)',\n",
       " 'petal width (cm)']"
      ]
     },
     "execution_count": 8,
     "metadata": {},
     "output_type": "execute_result"
    }
   ],
   "source": [
    "iris.feature_names"
   ]
  },
  {
   "cell_type": "code",
   "execution_count": 28,
   "id": "d732cfc1-7847-4c4e-ba3e-2b8f9251837b",
   "metadata": {},
   "outputs": [],
   "source": [
    "# aligining labels with species\n",
    "\n",
    "df = pd.DataFrame({'Predicted': labels, 'Actual': iris.target})"
   ]
  },
  {
   "cell_type": "code",
   "execution_count": 29,
   "id": "eef57430-6401-44b9-bff0-54507bc6d3cc",
   "metadata": {},
   "outputs": [
    {
     "data": {
      "text/html": [
       "<div>\n",
       "<style scoped>\n",
       "    .dataframe tbody tr th:only-of-type {\n",
       "        vertical-align: middle;\n",
       "    }\n",
       "\n",
       "    .dataframe tbody tr th {\n",
       "        vertical-align: top;\n",
       "    }\n",
       "\n",
       "    .dataframe thead th {\n",
       "        text-align: right;\n",
       "    }\n",
       "</style>\n",
       "<table border=\"1\" class=\"dataframe\">\n",
       "  <thead>\n",
       "    <tr style=\"text-align: right;\">\n",
       "      <th>Actual</th>\n",
       "      <th>0</th>\n",
       "      <th>1</th>\n",
       "      <th>2</th>\n",
       "    </tr>\n",
       "    <tr>\n",
       "      <th>Predicted</th>\n",
       "      <th></th>\n",
       "      <th></th>\n",
       "      <th></th>\n",
       "    </tr>\n",
       "  </thead>\n",
       "  <tbody>\n",
       "    <tr>\n",
       "      <th>0</th>\n",
       "      <td>0</td>\n",
       "      <td>48</td>\n",
       "      <td>14</td>\n",
       "    </tr>\n",
       "    <tr>\n",
       "      <th>1</th>\n",
       "      <td>50</td>\n",
       "      <td>0</td>\n",
       "      <td>0</td>\n",
       "    </tr>\n",
       "    <tr>\n",
       "      <th>2</th>\n",
       "      <td>0</td>\n",
       "      <td>2</td>\n",
       "      <td>36</td>\n",
       "    </tr>\n",
       "  </tbody>\n",
       "</table>\n",
       "</div>"
      ],
      "text/plain": [
       "Actual      0   1   2\n",
       "Predicted            \n",
       "0           0  48  14\n",
       "1          50   0   0\n",
       "2           0   2  36"
      ]
     },
     "execution_count": 29,
     "metadata": {},
     "output_type": "execute_result"
    }
   ],
   "source": [
    "# crosstab\n",
    "ct = pd.crosstab(df['Predicted'], df['Actual'])\n",
    "ct"
   ]
  },
  {
   "cell_type": "markdown",
   "id": "8328829e-c3d5-4c38-928d-186b0a7c41c0",
   "metadata": {},
   "source": [
    "## Signs of good clustering\n",
    "\n",
    "* Cluster tightness - which we can measure by inertia\n",
    "\n",
    "With inertia we measure how spread out the samples are within each cluster. Lower inertia is better. Inertia is measuring the distnace between each sample and the centroid of the appropriate cluster. \n",
    "\n",
    "In sklearn inertia is calculated automatically upon calling .fit(). We can check it by calling:"
   ]
  },
  {
   "cell_type": "code",
   "execution_count": 30,
   "id": "2101999b-ef62-4f11-9373-717184c761c4",
   "metadata": {},
   "outputs": [
    {
     "data": {
      "text/plain": [
       "78.851441426146"
      ]
     },
     "execution_count": 30,
     "metadata": {},
     "output_type": "execute_result"
    }
   ],
   "source": [
    "km.inertia_"
   ]
  },
  {
   "cell_type": "markdown",
   "id": "dd173c29-0870-4c9f-a71c-269e6b495932",
   "metadata": {},
   "source": [
    "Also we can check how many clusters will have the lowest inertia. It is best to see it on plot:"
   ]
  },
  {
   "cell_type": "code",
   "execution_count": 36,
   "id": "0a81c535-e72c-4208-ad08-7c4111d4e52b",
   "metadata": {},
   "outputs": [],
   "source": [
    "k_values = range(1,11)\n",
    "inertia_vals = []"
   ]
  },
  {
   "cell_type": "code",
   "execution_count": 37,
   "id": "d9d72b72-dd5b-47c2-acca-d1be708313ea",
   "metadata": {},
   "outputs": [
    {
     "name": "stderr",
     "output_type": "stream",
     "text": [
      "C:\\Users\\kskua\\anaconda3\\lib\\site-packages\\sklearn\\cluster\\_kmeans.py:881: UserWarning: KMeans is known to have a memory leak on Windows with MKL, when there are less chunks than available threads. You can avoid it by setting the environment variable OMP_NUM_THREADS=1.\n",
      "  warnings.warn(\n"
     ]
    }
   ],
   "source": [
    "for k in k_values:\n",
    "    model = KMeans(n_clusters=k, random_state=42)\n",
    "    model.fit(iris.data)\n",
    "    inertia_vals.append(model.inertia_)"
   ]
  },
  {
   "cell_type": "code",
   "execution_count": 38,
   "id": "955708d6-f1b2-4cee-b68d-d67cacc61949",
   "metadata": {},
   "outputs": [
    {
     "data": {
      "image/png": "[encoded data removed]",
      "text/plain": [
       "<Figure size 432x288 with 1 Axes>"
      ]
     },
     "metadata": {
      "needs_background": "light"
     },
     "output_type": "display_data"
    }
   ],
   "source": [
    "plt.plot(k_values, inertia_vals, marker='o')\n",
    "plt.xlabel('Number of clusters')\n",
    "plt.ylabel('Inertia_')\n",
    "plt.xticks(k_values)\n",
    "plt.grid(True)\n",
    "plt.show()"
   ]
  },
  {
   "cell_type": "markdown",
   "id": "5949ccd2-1856-47df-bb50-096f8a40d949",
   "metadata": {},
   "source": [
    "What is the best number of clusters? \n",
    "Elbow! Which meansa point where inertia decrese more slowly."
   ]
  }
 ],
 "metadata": {
  "kernelspec": {
   "display_name": "Python 3 (ipykernel)",
   "language": "python",
   "name": "python3"
  },
  "language_info": {
   "codemirror_mode": {
    "name": "ipython",
    "version": 3
   },
   "file_extension": ".py",
   "mimetype": "text/x-python",
   "name": "python",
   "nbconvert_exporter": "python",
   "pygments_lexer": "ipython3",
   "version": "3.9.7"
  }
 },
 "nbformat": 4,
 "nbformat_minor": 5
}
