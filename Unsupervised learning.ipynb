{
 "cells": [
  {
   "cell_type": "markdown",
   "id": "2de0b8c1-d8ae-4d96-8860-a7fccccc10b8",
   "metadata": {},
   "source": [
    "# Unsupervised learning\n",
    "\n",
    "**Uses of unsupervised learning**\n",
    "\n",
    "* Finding patterns in data\n",
    "* Clustering customers\n",
    "* Dimension reduction (compressing the data using patterns)\n",
    "\n",
    "Unsupervised learning algo's:\n",
    "## KMeans\n",
    "\n",
    "Finds specified number of clusters in the data. "
   ]
  },
  {
   "cell_type": "code",
   "execution_count": 22,
   "id": "d53b343b-1252-4c49-8f9c-4b71892a02f7",
   "metadata": {},
   "outputs": [],
   "source": [
    "from sklearn.cluster import KMeans\n",
    "from sklearn.model_selection import train_test_split\n",
    "import matplotlib.pyplot as plt"
   ]
  },
  {
   "cell_type": "code",
   "execution_count": 1,
   "id": "ffacb25e-96a2-4635-95d1-a374b4e21589",
   "metadata": {},
   "outputs": [],
   "source": [
    "from sklearn import datasets\n",
    "\n",
    "iris = datasets.load_iris()\n"
   ]
  },
  {
   "cell_type": "code",
   "execution_count": 13,
   "id": "68752043-a8df-4c16-bff0-3bbb8becc0c9",
   "metadata": {},
   "outputs": [
    {
     "data": {
      "text/plain": [
       "dict_keys(['data', 'target', 'frame', 'target_names', 'DESCR', 'feature_names', 'filename'])"
      ]
     },
     "execution_count": 13,
     "metadata": {},
     "output_type": "execute_result"
    }
   ],
   "source": [
    "iris.keys()"
   ]
  },
  {
   "cell_type": "code",
   "execution_count": 16,
   "id": "058bc251-a362-488e-8a60-473af4fc1c0e",
   "metadata": {},
   "outputs": [],
   "source": [
    "X_train, X_test, y_train, y_test = train_test_split(iris.data, iris.target, random_state=42,\n",
    "                                                    test_size=0.2)"
   ]
  },
  {
   "cell_type": "code",
   "execution_count": 17,
   "id": "c00873f1-2f6d-47ef-af4c-5b9c47575b79",
   "metadata": {},
   "outputs": [
    {
     "data": {
      "text/plain": [
       "KMeans(n_clusters=3)"
      ]
     },
     "execution_count": 17,
     "metadata": {},
     "output_type": "execute_result"
    }
   ],
   "source": [
    "km = KMeans(n_clusters=3)\n",
    "km.fit(X_train)"
   ]
  },
  {
   "cell_type": "markdown",
   "id": "e758e583-427b-40c4-bd08-aa7c5a217d99",
   "metadata": {},
   "source": [
    "You can already see the difference upon fitting the data. We do not fit to the y_train (labels). But only to the X_train (values)."
   ]
  },
  {
   "cell_type": "code",
   "execution_count": 19,
   "id": "75da5aeb-a6c1-4c9b-8d86-f24f4bd7dad4",
   "metadata": {},
   "outputs": [],
   "source": [
    "lables = km.predict(X_train)"
   ]
  },
  {
   "cell_type": "code",
   "execution_count": 20,
   "id": "0dedbeaa-916b-4734-b14a-ebbb42deeb65",
   "metadata": {},
   "outputs": [
    {
     "data": {
      "text/plain": [
       "array([1, 1, 0, 1, 1, 0, 0, 1, 1, 1, 0, 0, 0, 1, 1, 0, 0, 2, 0, 2, 0, 2,\n",
       "       0, 1, 2, 0, 1, 1, 1, 0, 0, 1, 1, 1, 0, 1, 0, 2, 1, 0, 0, 1, 0, 0,\n",
       "       0, 0, 2, 0, 1, 0, 2, 1, 1, 0, 2, 1, 0, 1, 1, 0, 0, 2, 0, 2, 2, 0,\n",
       "       1, 1, 0, 2, 1, 1, 1, 0, 2, 1, 2, 2, 1, 0, 0, 0, 2, 2, 1, 2, 0, 2,\n",
       "       0, 0, 0, 1, 0, 0, 1, 0, 2, 2, 1, 0, 2, 2, 1, 2, 1, 2, 2, 2, 0, 2,\n",
       "       0, 0, 0, 0, 1, 0, 0, 1, 0, 2])"
      ]
     },
     "execution_count": 20,
     "metadata": {},
     "output_type": "execute_result"
    }
   ],
   "source": [
    "lables"
   ]
  },
  {
   "cell_type": "markdown",
   "id": "877755db-de61-444d-ac84-151e0d1107f5",
   "metadata": {},
   "source": [
    "Predicitng on the new data (in our case the test values) is the same as with the supervised learning models."
   ]
  },
  {
   "cell_type": "code",
   "execution_count": 21,
   "id": "483107a8-b159-44d3-b43d-8f984e89eb5d",
   "metadata": {},
   "outputs": [
    {
     "data": {
      "text/plain": [
       "array([0, 1, 2, 0, 0, 1, 0, 2, 0, 0, 2, 1, 1, 1, 1, 0, 2, 0, 0, 2, 1, 0,\n",
       "       1, 2, 2, 2, 2, 2, 1, 1])"
      ]
     },
     "execution_count": 21,
     "metadata": {},
     "output_type": "execute_result"
    }
   ],
   "source": [
    "new_labels = km.predict(X_test)\n",
    "new_labels\n"
   ]
  },
  {
   "cell_type": "markdown",
   "id": "423c608a-9b30-4cc1-8b10-cee37105460f",
   "metadata": {},
   "source": [
    "We can evaluate model performance by using scatter plots:"
   ]
  },
  {
   "cell_type": "code",
   "execution_count": 23,
   "id": "f1ebb98b-b055-4054-909f-1e57ec5f24e5",
   "metadata": {},
   "outputs": [],
   "source": [
    "xs = X_train[:, 0] # Selecting sepal length - 0th column\n",
    "ys = X_train[:, 2] # Selecintg petal length - 2nd column"
   ]
  },
  {
   "cell_type": "code",
   "execution_count": 24,
   "id": "069c9f19-88ba-447c-bd95-ac34f56f1481",
   "metadata": {},
   "outputs": [
    {
     "data": {
      "text/plain": [
       "array([4.6, 5.7, 6.7, 4.8, 4.4, 6.3, 6.4, 5.2, 5. , 5.2, 5.8, 6. , 6.7,\n",
       "       5.4, 5.4, 5.5, 6.3, 6.4, 6.6, 7.2, 5.7, 7.6, 5.6, 5.1, 7.7, 5.8,\n",
       "       5.2, 5. , 5.1, 5. , 6.3, 4.8, 5. , 5.1, 5.6, 5.1, 5.7, 7.7, 4.6,\n",
       "       6.2, 5.7, 5.5, 6. , 5.8, 6. , 5.4, 6.2, 5.5, 5.4, 5. , 6.4, 5. ,\n",
       "       5. , 5.5, 6.7, 4.9, 5.8, 5. , 5. , 5.9, 5.1, 6.9, 6. , 6.1, 7.7,\n",
       "       5.5, 4.4, 4.3, 6. , 7.2, 4.6, 5.1, 4.4, 6.3, 6.3, 4.6, 6.8, 6.3,\n",
       "       4.7, 6.1, 6.5, 6.2, 7. , 6.4, 5.1, 6.9, 5.9, 6.5, 5.7, 5.2, 6.1,\n",
       "       4.5, 6.6, 5.5, 5.3, 5.6, 7.3, 6.7, 5.1, 4.9, 6.7, 7.2, 4.9, 6.7,\n",
       "       4.9, 6.9, 7.4, 6.3, 5.7, 6.5, 6.3, 6.4, 5.6, 5.9, 5.4, 6.1, 4.9,\n",
       "       5.8, 5.8, 7.1])"
      ]
     },
     "execution_count": 24,
     "metadata": {},
     "output_type": "execute_result"
    }
   ],
   "source": [
    "xs"
   ]
  },
  {
   "cell_type": "code",
   "execution_count": 25,
   "id": "042b1d09-1bc3-4064-b094-fb834e0e5c27",
   "metadata": {},
   "outputs": [
    {
     "data": {
      "text/plain": [
       "array([1. , 1.5, 4.4, 1.6, 1.3, 5. , 4.5, 1.5, 1.4, 1.5, 5.1, 4.5, 4.7,\n",
       "       1.3, 1.5, 3.7, 5.1, 5.5, 4.4, 6.1, 4.2, 6.6, 4.5, 1.4, 6.7, 4.1,\n",
       "       1.4, 1.3, 1.9, 3.5, 4.9, 1.9, 1.6, 1.7, 4.2, 1.5, 4.2, 6.7, 1.4,\n",
       "       4.3, 5. , 1.4, 4.8, 5.1, 4. , 4.5, 5.4, 4. , 1.7, 3.3, 5.3, 1.4,\n",
       "       1.2, 3.8, 5. , 1.5, 5.1, 1.5, 1.6, 4.8, 3. , 5.7, 5.1, 5.6, 6.1,\n",
       "       4. , 1.4, 1.1, 5. , 6. , 1.5, 1.4, 1.3, 4.9, 5.6, 1.4, 5.5, 6. ,\n",
       "       1.3, 4.7, 4.6, 4.8, 4.7, 5.3, 1.6, 5.4, 4.2, 5.2, 3.5, 3.9, 4.6,\n",
       "       1.3, 4.6, 4.4, 1.5, 4.1, 6.3, 5.7, 1.5, 3.3, 5.7, 5.8, 1.4, 5.6,\n",
       "       1.4, 4.9, 6.1, 5.6, 4.1, 5.5, 4.4, 4.3, 4.9, 5.1, 1.7, 4. , 4.5,\n",
       "       1.2, 4. , 5.9])"
      ]
     },
     "execution_count": 25,
     "metadata": {},
     "output_type": "execute_result"
    }
   ],
   "source": [
    "ys"
   ]
  },
  {
   "cell_type": "code",
   "execution_count": 26,
   "id": "648f0324-dcfd-4331-a309-701f3b18d1d3",
   "metadata": {},
   "outputs": [
    {
     "data": {
      "image/png": "[encoded data removed]",
      "text/plain": [
       "<Figure size 432x288 with 1 Axes>"
      ]
     },
     "metadata": {
      "needs_background": "light"
     },
     "output_type": "display_data"
    }
   ],
   "source": [
    "plt.scatter(xs, ys, c=lables)\n",
    "plt.show()"
   ]
  }
 ],
 "metadata": {
  "kernelspec": {
   "display_name": "Python 3 (ipykernel)",
   "language": "python",
   "name": "python3"
  },
  "language_info": {
   "codemirror_mode": {
    "name": "ipython",
    "version": 3
   },
   "file_extension": ".py",
   "mimetype": "text/x-python",
   "name": "python",
   "nbconvert_exporter": "python",
   "pygments_lexer": "ipython3",
   "version": "3.9.7"
  }
 },
 "nbformat": 4,
 "nbformat_minor": 5
}
